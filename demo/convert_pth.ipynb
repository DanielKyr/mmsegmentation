{
 "cells": [
  {
   "cell_type": "code",
   "execution_count": 1,
   "metadata": {},
   "outputs": [
    {
     "name": "stderr",
     "output_type": "stream",
     "text": [
      "c:\\anaconda\\envs\\mmlab\\Lib\\site-packages\\tqdm\\auto.py:21: TqdmWarning: IProgress not found. Please update jupyter and ipywidgets. See https://ipywidgets.readthedocs.io/en/stable/user_install.html\n",
      "  from .autonotebook import tqdm as notebook_tqdm\n"
     ]
    }
   ],
   "source": [
    "import torch\n",
    "from configs.lookhere.navit import resample_1d_pos_embed"
   ]
  },
  {
   "cell_type": "code",
   "execution_count": 7,
   "metadata": {},
   "outputs": [],
   "source": [
    "#navit\n",
    "for img_size in [320,384,448,512]:    \n",
    "    state_dict = torch.load('../results/ADE/224/NV/iter_160000.pth')\n",
    "    grid_size = img_size//16\n",
    "\n",
    "    new_pos_embed_height = resample_1d_pos_embed(\n",
    "        posemb=state_dict['state_dict']['backbone.pos_embed_height'],\n",
    "        new_size=grid_size\n",
    "    )\n",
    "    new_pos_embed_width = resample_1d_pos_embed(\n",
    "            posemb=state_dict['state_dict']['backbone.pos_embed_width'],\n",
    "            new_size=grid_size\n",
    "        )\n",
    "    state_dict['state_dict']['backbone.pos_embed_height'] = new_pos_embed_height\n",
    "    state_dict['state_dict']['backbone.pos_embed_width'] = new_pos_embed_width\n",
    "\n",
    "    torch.save(state_dict,f'../results/ADE/224/NV/iter_160000_{img_size}.pth')\n"
   ]
  },
  {
   "cell_type": "code",
   "execution_count": null,
   "metadata": {},
   "outputs": [],
   "source": [
    "#oned"
   ]
  },
  {
   "cell_type": "code",
   "execution_count": null,
   "metadata": {},
   "outputs": [],
   "source": [
    "#beit\n",
    "for img_size in [320,384,448,512]:    \n",
    "    state_dict = torch.load('../results/ADE/224/NV/iter_160000.pth')"
   ]
  }
 ],
 "metadata": {
  "kernelspec": {
   "display_name": "mmlab",
   "language": "python",
   "name": "python3"
  },
  "language_info": {
   "codemirror_mode": {
    "name": "ipython",
    "version": 3
   },
   "file_extension": ".py",
   "mimetype": "text/x-python",
   "name": "python",
   "nbconvert_exporter": "python",
   "pygments_lexer": "ipython3",
   "version": "3.11.5"
  }
 },
 "nbformat": 4,
 "nbformat_minor": 2
}
